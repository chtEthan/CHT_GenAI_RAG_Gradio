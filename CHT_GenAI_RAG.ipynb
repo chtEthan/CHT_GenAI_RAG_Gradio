import gradio as gr
import boto3
import json
 
 
def generate_message(bedrock_runtime, model_id, system_prompt, messages, max_tokens):
    body=json.dumps( 
        {
            "anthropic_version": "bedrock-2023-05-31",
            "max_tokens": max_tokens,
            "system": system_prompt,
            "messages": messages
        }
    )
    modelId="anthropic.claude-3-sonnet-20240229-v1:0"
    string=''
    response = bedrock_runtime.invoke_model_with_response_stream(body=body, modelId=model_id)
    for event in response.get("body"):
        chunk = json.loads(event["chunk"]["bytes"])
        if chunk['type'] == 'content_block_delta':
            if chunk['delta']['type'] == 'text_delta':
                print(chunk['delta']['text'], end="")
                string+=chunk['delta']['text']
    assistant_message = {"role": "assistant", "content": string}
    messages.append(assistant_message)
    return (string)
def user_input(imput_msg,history):
    bedrock_runtime= boto3.client(service_name="bedrock-runtime")
    model_id="anthropic.claude-3-sonnet-20240229-v1:0"
    max_tokens=300
    system_prompt="Respond as AI"
    user_message = {"role": "user", "content": imput_msg}
    messages.append(user_message)
    print (messages)
    response=generate_message(bedrock_runtime, model_id, system_prompt, messages, max_tokens)
    return response
 
messages=[]
gr.ChatInterface(
    user_input,
    textbox=gr.Textbox(placeholder="Ask me a yes or no question", container=False, scale=7),
    title="claude",
    description="Ask Me any question",
    theme="soft",
    cache_examples=True,
    retry_btn=None,
    undo_btn="Delete Previous",
    clear_btn="Clear",
).launch()