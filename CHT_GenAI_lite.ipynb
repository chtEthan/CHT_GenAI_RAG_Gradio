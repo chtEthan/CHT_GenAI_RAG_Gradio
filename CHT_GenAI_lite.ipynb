import gradio as gr
import boto3
import json
import pprint
import time
from botocore.client import Config

kb_id = "ARXACEDZEB"
need_restart = False
title_string = []
llm = ''
kb = ''

# model_arn = f'arn:aws:bedrock:{region_id}::foundation-model/{model_id}'
model_Arn = ""
modelID = ""
bedrock_config = Config(connect_timeout=120, read_timeout=120, retries={'max_attempts': 0})
bedrock_client = boto3.client('bedrock-runtime')
bedrock_agent_client = boto3.client("bedrock-agent-runtime", config=bedrock_config)

pp = pprint.PrettyPrinter(indent=2)


def set_interface_arguments():
    global need_restart
    need_restart = True
    raise gr.Info("Now Setting ...")
    return


def authenticate(username, password):
    if username == "cht" and password == "cht":
        return True
        
    else:
        return False

    
def read_config():
    with open('mypackage/setting.txt', 'r') as file:
        data = file.read().replace('\n', '')
        data = str(data)
        global llm
        llm = data.split(',')[0]
        global kb
        kb = data.split(',')[1]
        global title_string
        title_string = f"{llm} with {kb} KB"
        
        string = []
        string2 = []

        '''  ====== Module id list ======
        anthropic.claude-3-haiku-20240307-v1:0
        anthropic.claude-3-sonnet-20240229-v1:0
        anthropic.claude-3-opus-20240229-v1:0
        meta.llama3-70b-instruct-v1:0
        meta.llama2-70b-chat-v1
        ai21.j2-ultra-v1
        stability.stable-diffusion-xl-v1
        '''
        
        match llm:
            case 'Claude 3 Haiku':
                modelID = 'anthropic.claude-3-haiku-20240307-v1:0'
                model_Arn = "arn:aws:bedrock:us-west-2::foundation-model/"+modelID
                string2 = string.insert(0, modelID)
                string2 = string.append(model_Arn)
                string2 = string.append(title_string)
                return string
            case 'Claude 3 Sonnet':
                modelID = 'anthropic.claude-3-sonnet-20240229-v1:0'
                model_Arn = "arn:aws:bedrock:us-west-2::foundation-model/"+modelID
                string2 = string.insert(0, modelID)
                string2 = string.append(model_Arn)
                string2 = string.append(title_string)
                return string
            case 'Claude 3 Opus':
                modelID = 'anthropic.claude-3-opus-20240229-v1:0'
                model_Arn = "arn:aws:bedrock:us-west-2::foundation-model/"+modelID
                string2 = string.insert(0, modelID)
                string2 = string.append(model_Arn)
                string2 = string.append(title_string)
                return string
            case 'Jurassic-2 Ultra v2':
                modelID = 'ai21.j2-ultra-v1'
                model_Arn = "arn:aws:bedrock:us-west-2::foundation-model/"+modelID
                string2 = string.insert(0, modelID)
                string2 = string.append(model_Arn)
                string2 = string.append(title_string)
                return string
            case 'Llama 2':
                modelID = 'meta.llama2-70b-chat-v1'
                model_Arn = "arn:aws:bedrock:us-west-2::foundation-model/"+modelID
                string2 = string.insert(0, modelID)
                string2 = string.append(model_Arn)
                string2 = string.append(title_string)
                return string
            case 'Llama 3':
                modelID = 'meta.llama3-70b-instruct-v1:0'
                model_Arn = "arn:aws:bedrock:us-west-2::foundation-model/"+modelID
                string2 = string.insert(0, modelID)
                string2 = string.append(model_Arn)
                string2 = string.append(title_string)
                return string
            case 'Stability AI':
                modelID = 'stability.stable-diffusion-xl-v1'
                model_Arn = "arn:aws:bedrock:us-west-2::foundation-model/"+modelID
                string2 = string.insert(0, modelID)
                string2 = string.append(model_Arn)
                string2 = string.append(title_string)
                return string

            
def update_config(llm, kb):
    f = open("mypackage/setting.txt", "w")
    f.write(llm+","+kb)
    f.close()
    return


# -----------------  for without knowledge base start-----------------
def generate_message(bedrock_runtime, model_id, system_prompt, messages, max_tokens):
    body = json.dumps(
       {
            "anthropic_version": "bedrock-2023-05-31",
            "max_tokens": max_tokens,
            "system": system_prompt,
            "messages": messages
       }
      )
    '''modelId = "anthropic.claude-3-sonnet-20240229-v1:0"'''
    string = ''

    response = bedrock_runtime.invoke_model_with_response_stream(body=body, modelId=model_id)
    for event in response.get("body"):
        chunk = json.loads(event["chunk"]["bytes"])
        if chunk['type'] == 'content_block_delta':
            if chunk['delta']['type'] == 'text_delta':
                print(chunk['delta']['text'], end="")
                string += chunk['delta']['text']

    assistant_message = {"role": "assistant", "content": string}
    messages.append(assistant_message)
    return (string)


def user_input_without_kb(imput_msg, history):
    bedrock_runtime = boto3.client(service_name="bedrock-runtime")
    model_id = modelID
    print("i used this modelID:"+model_id)
    max_tokens = 5000
    system_prompt = "Respond as professional guy and answer in Traditional Chinese"
    user_message = {"role": "user", "content": imput_msg}
    messages.append(user_message)
    print(messages)
    response = generate_message(bedrock_runtime, model_id, system_prompt, messages, max_tokens)
    return response


messages = []

# -----------------  for without knowledge base end-----------------


def retrieveAndGenerate(input, kbId, modelArn):
    """
    https://boto3.amazonaws.com/v1/documentation/api/latest/reference/services/bedrock-agent-runtime/client/retrieve_and_generate.html
    :param input:
    :param kbId:
    :return:
    """
    return bedrock_agent_client.retrieve_and_generate(
        input={
            'text': input
        },
        retrieveAndGenerateConfiguration={
            'type': 'KNOWLEDGE_BASE',
            'knowledgeBaseConfiguration': {
                'knowledgeBaseId': kbId,
                'modelArn': modelArn
            }
        }
    )
    return retrieveAndGenerateConfiguration


def user_input(imput_msg, history):
    query = imput_msg
    response = retrieveAndGenerate(query, kb_id, model_Arn)
    generated_text = response['output']['text']
    
    # print(json.dumps(response, indent=2, ensure_ascii=False))
    # pp.pprint(generated_text)
    
    '''
    citations = response["citations"]
    for citation in citations:
        retrievedReferences = citation["retrievedReferences"]
        for reference in retrievedReferences:
            contexts.append(reference["content"]["text"])
    '''
    # pp.pprint(contexts)
    return generated_text


contexts = []


def create_interface():

    settingList = []
    settingList = read_config()
    
    global model_Arn
    model_Arn = str(settingList[1])
    global modelID
    modelID = str(settingList[0])
    global title_string
    title_string = str(settingList[2])
    
    print("Caught Arn:"+model_Arn)
    print("Caught Model id:"+modelID)
    print("Caught title:"+title_string)
    
    app3 = gr.ChatInterface(user_input,
                            title=title_string,
                            textbox=gr.Textbox(placeholder="Ask any questions here",
                                               container=False, scale=7),
                            description="詢問公司相關的福利",
                            theme="soft",
                            cache_examples=True,
                            retry_btn=None,
                            undo_btn="Delete Previous",
                            clear_btn="Clear",)
    app2 = gr.ChatInterface(user_input_without_kb,
                            title=title_string,
                            textbox=gr.Textbox(placeholder="Ask me a yes or no question",
                                               container=False, scale=7),
                            description="Ask Me any question",
                            theme="soft",
                            cache_examples=True,
                            retry_btn=None,
                            undo_btn="Delete Previous",
                            clear_btn="Clear",)
    
    # -----------------  for dropdown start -----------------
    options_1 = ['Claude 3 Haiku', 'Claude 3 Sonnet', 'Claude 3 Opus', 'Llama 2', 'Llama 3', 'Jurassic-2 Ultra v2','Stability AI'] 
    
    options_2 = {
        'Claude 3 Haiku': ['None', 'CHT-KB', '勞基法'],
        'Claude 3 Sonnet': ['None', 'CHT-KB', '勞基法'],
        'Claude 3 Opus': ['None', 'CHT-KB', '勞基法'],
        'Llama 2': ['None', 'CHT-KB', '勞基法'],
        'Llama 3': ['None', 'CHT-KB', '勞基法'],
        'Jurassic-2 Ultra v2': ['None', 'CHT-KB', '勞基法'],
        'Stability AI': ['None', 'CHT-KB', '勞基法'],
        }

    with gr.Blocks() as dropdown:
        d1 = gr.Dropdown(choices=options_1, label="LLM")
        d2 = gr.Dropdown([], label="Knowledge Base")
        
        def update_second(first_val):
            d2 = gr.Dropdown(options_2[first_val], label="Knowledge Base")
            return d2
        
        d1.input(update_second, d1, d2)
        outputs = gr.Textbox()
        
        def print_results(option_1, option_2):
            update_config(option_1, option_2)
            return f"You selected:\n\nLLM: {option_1} \nKnowledge Base:{option_2}"
        
        d2.input(print_results, [d1, d2], outputs)
        
        btn_refresh = gr.Button(value="Save")
        # btn_refresh.click(None, js="window.location.reload(true)")
        btn_refresh.click(set_interface_arguments, None, None)
        btn_logout = gr.Button("Reload module")
        btn_logout.click(None, js="window.location.reload(true)")
# -----------------  for dropdown end -----------------
        
    app1 = dropdown
    
    print("kb is:"+kb)
    
    if kb == "CHT-KB":
        # main = gr.TabbedInterface([app3, app1], ["Chat with kb", "Setting"])
        main = app3
    else:
        # main = gr.TabbedInterface([app2, app1], ["Chat", "Setting"])
        main = app3
    
    # main.queue()
    main.launch(prevent_thread_lock=True)
    
    return main
    

interface = create_interface()
    
while True:
    time.sleep(0.5)
    if need_restart:
        need_restart = False
        interface.close()
        time.sleep(0.5)
        interface = create_interface()